{
 "cells": [
  {
   "cell_type": "code",
   "execution_count": 1,
   "metadata": {},
   "outputs": [
    {
     "ename": "ModuleNotFoundError",
     "evalue": "No module named 'pandas'",
     "output_type": "error",
     "traceback": [
      "\u001b[0;31m---------------------------------------------------------------------------\u001b[0m",
      "\u001b[0;31mModuleNotFoundError\u001b[0m                       Traceback (most recent call last)",
      "Cell \u001b[0;32mIn[1], line 3\u001b[0m\n\u001b[1;32m      1\u001b[0m get_ipython()\u001b[38;5;241m.\u001b[39mrun_line_magic(\u001b[38;5;124m'\u001b[39m\u001b[38;5;124mload_ext\u001b[39m\u001b[38;5;124m'\u001b[39m, \u001b[38;5;124m'\u001b[39m\u001b[38;5;124mautoreload\u001b[39m\u001b[38;5;124m'\u001b[39m)\n\u001b[1;32m      2\u001b[0m get_ipython()\u001b[38;5;241m.\u001b[39mrun_line_magic(\u001b[38;5;124m'\u001b[39m\u001b[38;5;124mautoreload\u001b[39m\u001b[38;5;124m'\u001b[39m, \u001b[38;5;124m'\u001b[39m\u001b[38;5;124m2\u001b[39m\u001b[38;5;124m'\u001b[39m)\n\u001b[0;32m----> 3\u001b[0m \u001b[38;5;28;01mimport\u001b[39;00m \u001b[38;5;21;01mpandas\u001b[39;00m \u001b[38;5;28;01mas\u001b[39;00m \u001b[38;5;21;01mpd\u001b[39;00m\n\u001b[1;32m      4\u001b[0m \u001b[38;5;28;01mimport\u001b[39;00m \u001b[38;5;21;01mnumpy\u001b[39;00m \u001b[38;5;28;01mas\u001b[39;00m \u001b[38;5;21;01mnp\u001b[39;00m\n\u001b[1;32m      5\u001b[0m \u001b[38;5;28;01mimport\u001b[39;00m \u001b[38;5;21;01msys\u001b[39;00m\n",
      "\u001b[0;31mModuleNotFoundError\u001b[0m: No module named 'pandas'"
     ]
    }
   ],
   "source": [
    "%load_ext autoreload\n",
    "%autoreload 2\n",
    "import pandas as pd\n",
    "import numpy as np\n",
    "import sys\n",
    "sys.path.append('../')\n",
    "\n",
    "from dataloader import get_model_values_df, sample_data\n",
    "from utils import DATASET_TO_N_CLASSES \n",
    "\n",
    "run = 46\n",
    "np.random.seed(run)\n",
    "n_labeled = 20\n",
    "n_unlabeled = 1000\n",
    "dataset = 'civilcomments'\n",
    "model_alg_combinations=\"distilbert_CORAL,distilbert_ERM,distilbert_IRM,distilbert_ERM_seed1,distilbert_ERM_seed2,distilbert_IRM_seed1,distilbert_IRM_seed2\"\n",
    "model_alg_list = model_alg_combinations.split(',')\n",
    "\n",
    "group_definition = 'global'\n",
    "num_groups = 1\n",
    "n_classes = DATASET_TO_N_CLASSES[dataset]\n",
    "\n",
    "split_name = 'labeled'\n",
    "dataset_df = get_model_values_df(dataset, model_alg_list, split_name, value='prob_prediction')\n",
    "\n",
    "train_dataset_df = dataset_df.sample(frac=.5, random_state=run)\n",
    "test_dataset_df = dataset_df[~dataset_df.index.isin(train_dataset_df.index)]\n",
    "\n",
    "# Sample data according to n_labeled and n_unlabeled\n",
    "sampled_data, sampled_labels, sampled_true_labels, sampled_data_df = sample_data(train_dataset_df, n_labeled, n_unlabeled, model_alg_list, run, n_classes)\n",
    "labeled_idxs = np.where(sampled_labels != -1)[0]\n",
    "unlabeled_idxs = np.where(sampled_labels == -1)[0]\n",
    "\n",
    "# Reorder sampled_data_df to match the order of estimation labeled and unlabeled data\n",
    "sampled_data_df = pd.concat([sampled_data_df.iloc[labeled_idxs], sampled_data_df.iloc[unlabeled_idxs]], ignore_index=True)\n",
    "\n",
    "heldout_data = test_dataset_df[model_alg_list].values\n",
    "heldout_true_labels = test_dataset_df['label'].values\n",
    "\n",
    "sampled_groups = [np.array(['global' for _ in range(n_labeled + n_unlabeled)])]\n",
    "heldout_groups = [np.array(['global' for _ in range(len(test_dataset_df))])]\n",
    "\n",
    "# Only useful when looking at a specific demographic, drawn from the metadata columns\n",
    "subgroup = None\n",
    "if group_definition == 'subgroups':\n",
    "    sampled_groups.append(np.array(sampled_data_df[subgroup].values))\n",
    "    heldout_groups.append(np.array(test_dataset_df[subgroup].values))\n",
    "\n",
    "assert len(labeled_idxs) == n_labeled\n",
    "assert len(unlabeled_idxs) == n_unlabeled\n"
   ]
  },
  {
   "cell_type": "code",
   "execution_count": null,
   "metadata": {},
   "outputs": [],
   "source": [
    "train_labeled_data = (sampled_data[labeled_idxs],\n",
    "                            [d[labeled_idxs] for d in sampled_groups],\n",
    "                            sampled_labels[labeled_idxs])\n",
    "\n",
    "train_unlabeled_data = (sampled_data[unlabeled_idxs],\n",
    "                                [d[unlabeled_idxs] for d in sampled_groups],\n",
    "                                sampled_labels[unlabeled_idxs])\n",
    "    \n",
    "train_labeled_data_labels = sampled_true_labels[labeled_idxs]\n",
    "train_unlabeled_data_labels = sampled_true_labels[unlabeled_idxs]\n",
    "\n",
    "y_true = np.concatenate([train_labeled_data_labels, train_unlabeled_data_labels])\n",
    "\n",
    "test_data = (heldout_data,\n",
    "                heldout_groups,\n",
    "                heldout_true_labels)\n",
    "\n",
    "print(\"Prior: \", np.mean(train_unlabeled_data_labels), np.mean(sampled_true_labels))"
   ]
  },
  {
   "cell_type": "code",
   "execution_count": null,
   "metadata": {},
   "outputs": [],
   "source": [
    "from model import SSME_KDE_binary\n",
    "\n",
    "method_config = {'dataset': dataset, \n",
    "                 'epochs': 20, \n",
    "                 'labeled_data_weight': 10,\n",
    "                 'simulate_predictions': True, \n",
    "                 'prior_type': 'learned', \n",
    "                 'use_sample_weights': True, \n",
    "                 'init': 'draw'}\n",
    "\n",
    "\n",
    "SSME_KDE_binary(train_labeled_data, train_unlabeled_data, method_config)"
   ]
  },
  {
   "cell_type": "code",
   "execution_count": null,
   "metadata": {},
   "outputs": [],
   "source": [
    "method_config = {'dataset': dataset, \n",
    "                'group_definition': group_definition,\n",
    "                'model_alg_combinations': model_alg_combinations,}\n",
    "gt_metrics_df = labeled_auc_auprc_ece(test_data, method_config)\n",
    "gt_metrics_df"
   ]
  }
 ],
 "metadata": {
  "kernelspec": {
   "display_name": "ssme",
   "language": "python",
   "name": "python3"
  },
  "language_info": {
   "codemirror_mode": {
    "name": "ipython",
    "version": 3
   },
   "file_extension": ".py",
   "mimetype": "text/x-python",
   "name": "python",
   "nbconvert_exporter": "python",
   "pygments_lexer": "ipython3",
   "version": "3.9.20"
  }
 },
 "nbformat": 4,
 "nbformat_minor": 2
}
